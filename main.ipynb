{
 "cells": [
  {
   "cell_type": "markdown",
   "source": [
    "Imports"
   ],
   "metadata": {
    "collapsed": false,
    "pycharm": {
     "name": "#%% md\n"
    }
   }
  },
  {
   "cell_type": "code",
   "execution_count": 31,
   "outputs": [],
   "source": [
    "import pandas as pd"
   ],
   "metadata": {
    "collapsed": false,
    "pycharm": {
     "name": "#%%\n"
    }
   }
  },
  {
   "cell_type": "markdown",
   "source": [
    "Load sample data"
   ],
   "metadata": {
    "collapsed": false,
    "pycharm": {
     "name": "#%% md\n"
    }
   }
  },
  {
   "cell_type": "code",
   "execution_count": 25,
   "outputs": [
    {
     "data": {
      "text/plain": "                    keyword                     category\n0                Apremilast  Andere systemische Therapie\n1  Phosphodiesterase-Hemmer  Andere systemische Therapie\n2                    Otezla  Andere systemische Therapie\n3            PDE4-Inhibitor  Andere systemische Therapie\n4               Ciclosporin  Andere systemische Therapie",
      "text/html": "<div>\n<style scoped>\n    .dataframe tbody tr th:only-of-type {\n        vertical-align: middle;\n    }\n\n    .dataframe tbody tr th {\n        vertical-align: top;\n    }\n\n    .dataframe thead th {\n        text-align: right;\n    }\n</style>\n<table border=\"1\" class=\"dataframe\">\n  <thead>\n    <tr style=\"text-align: right;\">\n      <th></th>\n      <th>keyword</th>\n      <th>category</th>\n    </tr>\n  </thead>\n  <tbody>\n    <tr>\n      <th>0</th>\n      <td>Apremilast</td>\n      <td>Andere systemische Therapie</td>\n    </tr>\n    <tr>\n      <th>1</th>\n      <td>Phosphodiesterase-Hemmer</td>\n      <td>Andere systemische Therapie</td>\n    </tr>\n    <tr>\n      <th>2</th>\n      <td>Otezla</td>\n      <td>Andere systemische Therapie</td>\n    </tr>\n    <tr>\n      <th>3</th>\n      <td>PDE4-Inhibitor</td>\n      <td>Andere systemische Therapie</td>\n    </tr>\n    <tr>\n      <th>4</th>\n      <td>Ciclosporin</td>\n      <td>Andere systemische Therapie</td>\n    </tr>\n  </tbody>\n</table>\n</div>"
     },
     "execution_count": 25,
     "metadata": {},
     "output_type": "execute_result"
    }
   ],
   "source": [
    "posts = pd.read_parquet('coding_task_ds_2021-09/psoriasis_all_posts.parquet')\n",
    "treatments = pd.read_excel('coding_task_ds_2021-09/keywords_psoriasis_therapies.xlsx')\n",
    "# posts.head()\n",
    "# posts.describe()\n",
    "treatments.head()\n",
    "# treatments.describe()"
   ],
   "metadata": {
    "collapsed": false,
    "pycharm": {
     "name": "#%%\n"
    }
   }
  },
  {
   "cell_type": "markdown",
   "source": [
    "Calculate treatment mentions for posts"
   ],
   "metadata": {
    "collapsed": false,
    "pycharm": {
     "name": "#%% md\n"
    }
   },
   "execution_count": 0
  },
  {
   "cell_type": "code",
   "execution_count": 26,
   "outputs": [],
   "source": [
    "treatment_categories = treatments.category.unique()"
   ],
   "metadata": {
    "collapsed": false,
    "pycharm": {
     "name": "#%%\n"
    }
   }
  },
  {
   "cell_type": "code",
   "execution_count": 27,
   "outputs": [
    {
     "data": {
      "text/plain": "{'Andere systemische Therapie': array(['Apremilast', 'Phosphodiesterase-Hemmer', 'Otezla',\n        'PDE4-Inhibitor', 'Ciclosporin', 'Cicloral', 'Immunosporin',\n        'Fumarsäureester', 'Fumarsäuredimethylester', 'Fumaderm',\n        'Ethylhydrogenfumarat', 'Retinoid', 'Retinol', 'Vitamin A',\n        'Acitretin'], dtype=object),\n 'Andere topische Therapie': array(['B12', 'Cyanocobalamin', 'Avocadoöl', 'Dithranol', 'Cignolin',\n        'Anthralin', 'Psoradexan', 'Salizylsäure', 'Spirsäure',\n        'Calcipotriol', 'Tacalcitol', 'Vitamin+D'], dtype=object),\n 'Badetherapie': array(['Badetherapie', 'Balneo', 'Fango', 'Fischtherapie', 'garra rufa',\n        'Kangalfische', 'Knabberfische', 'Saugbarbe', 'Salzbäder',\n        'Salzbad', 'Sole', 'Vulkanwasser'], dtype=object),\n 'Biologicals': array(['Adalimumab', 'Humira', 'IgG1', 'Bimekizumab', 'Brodalumab',\n        'Kyntheum', 'Etanercept', 'Fusionsproteine', 'Enbrel',\n        'Guselkumab', 'Tremfya', 'Infliximab', 'Remicade', 'Ixekizumab',\n        'Taltz', 'Talz', 'Risankizumab', 'Skyrizi', 'Secukinumab',\n        'Cosentyx', 'Costentix', 'Costenyx', 'AIN457', 'anti-interleukin',\n        'interleukin', 'Tildrakizumab', 'Ilumetri', 'Ilumya',\n        'TNF-Blocker', 'TNF', 'Ustekinumab', 'Stelara'], dtype=object),\n 'Kortison': array(['Kortison', 'Cortison'], dtype=object),\n 'Kortison (topisch)': array(['Betagalen', 'Clobetasol', 'Dermatop', 'Enstilar', 'Kortisoncreme',\n        'Cortisoncreme', 'Kortisonsalbe', 'Cortisonsalbe', 'Momegalen',\n        'Neyzar', 'Silkis', 'Triamgalen', 'Xamiol'], dtype=object),\n 'Lichttherapie': array(['Lasertherapie', 'Excimer-Laser', 'Excimer', 'Xenon',\n        'Xenon+Chlorid+Gas', 'LED', 'Blaue+Licht', 'Lichttherapie',\n        'Phototherapie', 'Schmalspektrum', 'Ultraviolettstrahlung',\n        'Strahlung', 'Bestrahlung', 'UV+Bestrahlung', 'SUP', 'PUVA',\n        'Psoralen-UVA', 'Psoralen '], dtype=object),\n 'Methotrexat': array(['Methotrexat', 'MTX', 'Bendatrexat', 'Lantarel', 'Metex',\n        'Neotrexat'], dtype=object),\n 'Naturheilmittel': array(['ayurveda', 'Färberwurzel', 'Gelbwurz', 'Horvitrigon', 'Horvi',\n        'Horvizym', 'Indrajao', 'Iqlind', 'Niem', 'Olivenöl', 'Rosatum',\n        'Kieselsäure', 'Sorion', 'Urea', 'Urea pura', 'Harnstoff'],\n       dtype=object),\n 'Sonstige Therapie': array(['Akupunktur', 'Akkupunktur', 'Bioresonanz', 'Elektrotherapie',\n        'Gaumenmandeln', 'Mandeln', 'Schmerztherapie', 'Stoßtherapie',\n        'TCM', 'Chinesische Medizin', 'Wassergymnastik'], dtype=object)}"
     },
     "execution_count": 27,
     "metadata": {},
     "output_type": "execute_result"
    }
   ],
   "source": [
    "keywords = dict()\n",
    "for category in treatment_categories:\n",
    "    category_keywords = treatments[treatments.category.eq(category)]\n",
    "    keywords[category] = category_keywords.keyword.unique()\n",
    "keywords"
   ],
   "metadata": {
    "collapsed": false,
    "pycharm": {
     "name": "#%%\n"
    }
   }
  },
  {
   "cell_type": "code",
   "source": [
    "# go through posts and \"tag\" with treatments by category\n",
    "def add_columns(df, columns):\n",
    "    extended = df.copy()\n",
    "    for column in columns:\n",
    "        extended[column] = False\n",
    "    return extended\n",
    "\n",
    "mentions = add_columns(posts, treatment_categories)\n",
    "mentions"
   ],
   "metadata": {
    "collapsed": false,
    "pycharm": {
     "name": "#%%\n"
    }
   },
   "execution_count": 28,
   "outputs": [
    {
     "data": {
      "text/plain": "       post_id                                               text       user  \\\n96315   170079   zunehmend oft höre ich über die problematik d...  Annamaria   \n96316   170082   Hallo Annamaria,  herzlich Willkommen hier im...     Fischi   \n96317   170210   hallo, Annamaria -  ich wünsche dir wirklich ...       Bibi   \n30501   170251   Auch ich wünsche euch ein schönes und glückli...  BlackLady   \n30498   170019   Ich wünsche Allen   Frohes Neues Jahr GB Pics...   Bernd-57   \n...        ...                                                ...        ...   \n73863   424715    vor 1 Stunde schrieb Clau dia:   Übrigens. I...    Claudia   \n73351   443736   Unser Sommertreffen rückt näher. Wer es im Ka...    Claudia   \n22658   443739   Hallo und Euch einen schönen Sonntag,  da ich...  BlackFlag   \n22660   443745   hallo, BlackFlag -  ich musste erst einmal im...       Bibi   \n22659   443741   Hi @BlackFlag   was befürchtest du denn bezüg...    Claudia   \n\n                timestamp  subject_id       forum_id  \\\n96315 2010-01-01 21:48:37       13338    4-community   \n96316 2010-01-01 21:48:37       13338    4-community   \n96317 2010-01-01 21:48:37       13338    4-community   \n30501 2010-01-02 10:13:06        3969  1-allgemeines   \n30498 2010-01-02 10:13:06        3969  1-allgemeines   \n...                   ...         ...            ...   \n73863 2021-08-13 12:12:17       10061    4-community   \n73351 2021-08-15 09:57:56       10000    4-community   \n22658 2021-08-15 17:23:17        2911  1-allgemeines   \n22660 2021-08-15 17:23:17        2911  1-allgemeines   \n22659 2021-08-15 17:23:17        2911  1-allgemeines   \n\n       Andere systemische Therapie  Andere topische Therapie  Badetherapie  \\\n96315                        False                     False         False   \n96316                        False                     False         False   \n96317                        False                     False         False   \n30501                        False                     False         False   \n30498                        False                     False         False   \n...                            ...                       ...           ...   \n73863                        False                     False         False   \n73351                        False                     False         False   \n22658                        False                     False         False   \n22660                        False                     False         False   \n22659                        False                     False         False   \n\n       Biologicals  Kortison  Kortison (topisch)  Lichttherapie  Methotrexat  \\\n96315        False     False               False          False        False   \n96316        False     False               False          False        False   \n96317        False     False               False          False        False   \n30501        False     False               False          False        False   \n30498        False     False               False          False        False   \n...            ...       ...                 ...            ...          ...   \n73863        False     False               False          False        False   \n73351        False     False               False          False        False   \n22658        False     False               False          False        False   \n22660        False     False               False          False        False   \n22659        False     False               False          False        False   \n\n       Naturheilmittel  Sonstige Therapie  \n96315            False              False  \n96316            False              False  \n96317            False              False  \n30501            False              False  \n30498            False              False  \n...                ...                ...  \n73863            False              False  \n73351            False              False  \n22658            False              False  \n22660            False              False  \n22659            False              False  \n\n[55888 rows x 16 columns]",
      "text/html": "<div>\n<style scoped>\n    .dataframe tbody tr th:only-of-type {\n        vertical-align: middle;\n    }\n\n    .dataframe tbody tr th {\n        vertical-align: top;\n    }\n\n    .dataframe thead th {\n        text-align: right;\n    }\n</style>\n<table border=\"1\" class=\"dataframe\">\n  <thead>\n    <tr style=\"text-align: right;\">\n      <th></th>\n      <th>post_id</th>\n      <th>text</th>\n      <th>user</th>\n      <th>timestamp</th>\n      <th>subject_id</th>\n      <th>forum_id</th>\n      <th>Andere systemische Therapie</th>\n      <th>Andere topische Therapie</th>\n      <th>Badetherapie</th>\n      <th>Biologicals</th>\n      <th>Kortison</th>\n      <th>Kortison (topisch)</th>\n      <th>Lichttherapie</th>\n      <th>Methotrexat</th>\n      <th>Naturheilmittel</th>\n      <th>Sonstige Therapie</th>\n    </tr>\n  </thead>\n  <tbody>\n    <tr>\n      <th>96315</th>\n      <td>170079</td>\n      <td>zunehmend oft höre ich über die problematik d...</td>\n      <td>Annamaria</td>\n      <td>2010-01-01 21:48:37</td>\n      <td>13338</td>\n      <td>4-community</td>\n      <td>False</td>\n      <td>False</td>\n      <td>False</td>\n      <td>False</td>\n      <td>False</td>\n      <td>False</td>\n      <td>False</td>\n      <td>False</td>\n      <td>False</td>\n      <td>False</td>\n    </tr>\n    <tr>\n      <th>96316</th>\n      <td>170082</td>\n      <td>Hallo Annamaria,  herzlich Willkommen hier im...</td>\n      <td>Fischi</td>\n      <td>2010-01-01 21:48:37</td>\n      <td>13338</td>\n      <td>4-community</td>\n      <td>False</td>\n      <td>False</td>\n      <td>False</td>\n      <td>False</td>\n      <td>False</td>\n      <td>False</td>\n      <td>False</td>\n      <td>False</td>\n      <td>False</td>\n      <td>False</td>\n    </tr>\n    <tr>\n      <th>96317</th>\n      <td>170210</td>\n      <td>hallo, Annamaria -  ich wünsche dir wirklich ...</td>\n      <td>Bibi</td>\n      <td>2010-01-01 21:48:37</td>\n      <td>13338</td>\n      <td>4-community</td>\n      <td>False</td>\n      <td>False</td>\n      <td>False</td>\n      <td>False</td>\n      <td>False</td>\n      <td>False</td>\n      <td>False</td>\n      <td>False</td>\n      <td>False</td>\n      <td>False</td>\n    </tr>\n    <tr>\n      <th>30501</th>\n      <td>170251</td>\n      <td>Auch ich wünsche euch ein schönes und glückli...</td>\n      <td>BlackLady</td>\n      <td>2010-01-02 10:13:06</td>\n      <td>3969</td>\n      <td>1-allgemeines</td>\n      <td>False</td>\n      <td>False</td>\n      <td>False</td>\n      <td>False</td>\n      <td>False</td>\n      <td>False</td>\n      <td>False</td>\n      <td>False</td>\n      <td>False</td>\n      <td>False</td>\n    </tr>\n    <tr>\n      <th>30498</th>\n      <td>170019</td>\n      <td>Ich wünsche Allen   Frohes Neues Jahr GB Pics...</td>\n      <td>Bernd-57</td>\n      <td>2010-01-02 10:13:06</td>\n      <td>3969</td>\n      <td>1-allgemeines</td>\n      <td>False</td>\n      <td>False</td>\n      <td>False</td>\n      <td>False</td>\n      <td>False</td>\n      <td>False</td>\n      <td>False</td>\n      <td>False</td>\n      <td>False</td>\n      <td>False</td>\n    </tr>\n    <tr>\n      <th>...</th>\n      <td>...</td>\n      <td>...</td>\n      <td>...</td>\n      <td>...</td>\n      <td>...</td>\n      <td>...</td>\n      <td>...</td>\n      <td>...</td>\n      <td>...</td>\n      <td>...</td>\n      <td>...</td>\n      <td>...</td>\n      <td>...</td>\n      <td>...</td>\n      <td>...</td>\n      <td>...</td>\n    </tr>\n    <tr>\n      <th>73863</th>\n      <td>424715</td>\n      <td>vor 1 Stunde schrieb Clau dia:   Übrigens. I...</td>\n      <td>Claudia</td>\n      <td>2021-08-13 12:12:17</td>\n      <td>10061</td>\n      <td>4-community</td>\n      <td>False</td>\n      <td>False</td>\n      <td>False</td>\n      <td>False</td>\n      <td>False</td>\n      <td>False</td>\n      <td>False</td>\n      <td>False</td>\n      <td>False</td>\n      <td>False</td>\n    </tr>\n    <tr>\n      <th>73351</th>\n      <td>443736</td>\n      <td>Unser Sommertreffen rückt näher. Wer es im Ka...</td>\n      <td>Claudia</td>\n      <td>2021-08-15 09:57:56</td>\n      <td>10000</td>\n      <td>4-community</td>\n      <td>False</td>\n      <td>False</td>\n      <td>False</td>\n      <td>False</td>\n      <td>False</td>\n      <td>False</td>\n      <td>False</td>\n      <td>False</td>\n      <td>False</td>\n      <td>False</td>\n    </tr>\n    <tr>\n      <th>22658</th>\n      <td>443739</td>\n      <td>Hallo und Euch einen schönen Sonntag,  da ich...</td>\n      <td>BlackFlag</td>\n      <td>2021-08-15 17:23:17</td>\n      <td>2911</td>\n      <td>1-allgemeines</td>\n      <td>False</td>\n      <td>False</td>\n      <td>False</td>\n      <td>False</td>\n      <td>False</td>\n      <td>False</td>\n      <td>False</td>\n      <td>False</td>\n      <td>False</td>\n      <td>False</td>\n    </tr>\n    <tr>\n      <th>22660</th>\n      <td>443745</td>\n      <td>hallo, BlackFlag -  ich musste erst einmal im...</td>\n      <td>Bibi</td>\n      <td>2021-08-15 17:23:17</td>\n      <td>2911</td>\n      <td>1-allgemeines</td>\n      <td>False</td>\n      <td>False</td>\n      <td>False</td>\n      <td>False</td>\n      <td>False</td>\n      <td>False</td>\n      <td>False</td>\n      <td>False</td>\n      <td>False</td>\n      <td>False</td>\n    </tr>\n    <tr>\n      <th>22659</th>\n      <td>443741</td>\n      <td>Hi @BlackFlag   was befürchtest du denn bezüg...</td>\n      <td>Claudia</td>\n      <td>2021-08-15 17:23:17</td>\n      <td>2911</td>\n      <td>1-allgemeines</td>\n      <td>False</td>\n      <td>False</td>\n      <td>False</td>\n      <td>False</td>\n      <td>False</td>\n      <td>False</td>\n      <td>False</td>\n      <td>False</td>\n      <td>False</td>\n      <td>False</td>\n    </tr>\n  </tbody>\n</table>\n<p>55888 rows × 16 columns</p>\n</div>"
     },
     "execution_count": 28,
     "metadata": {},
     "output_type": "execute_result"
    }
   ]
  },
  {
   "cell_type": "code",
   "execution_count": 29,
   "outputs": [
    {
     "data": {
      "text/plain": "       post_id                                               text       user  \\\n96315   170079   zunehmend oft höre ich über die problematik d...  Annamaria   \n96316   170082   Hallo Annamaria,  herzlich Willkommen hier im...     Fischi   \n96317   170210   hallo, Annamaria -  ich wünsche dir wirklich ...       Bibi   \n30501   170251   Auch ich wünsche euch ein schönes und glückli...  BlackLady   \n30498   170019   Ich wünsche Allen   Frohes Neues Jahr GB Pics...   Bernd-57   \n...        ...                                                ...        ...   \n73863   424715    vor 1 Stunde schrieb Clau dia:   Übrigens. I...    Claudia   \n73351   443736   Unser Sommertreffen rückt näher. Wer es im Ka...    Claudia   \n22658   443739   Hallo und Euch einen schönen Sonntag,  da ich...  BlackFlag   \n22660   443745   hallo, BlackFlag -  ich musste erst einmal im...       Bibi   \n22659   443741   Hi @BlackFlag   was befürchtest du denn bezüg...    Claudia   \n\n                timestamp  subject_id       forum_id  \\\n96315 2010-01-01 21:48:37       13338    4-community   \n96316 2010-01-01 21:48:37       13338    4-community   \n96317 2010-01-01 21:48:37       13338    4-community   \n30501 2010-01-02 10:13:06        3969  1-allgemeines   \n30498 2010-01-02 10:13:06        3969  1-allgemeines   \n...                   ...         ...            ...   \n73863 2021-08-13 12:12:17       10061    4-community   \n73351 2021-08-15 09:57:56       10000    4-community   \n22658 2021-08-15 17:23:17        2911  1-allgemeines   \n22660 2021-08-15 17:23:17        2911  1-allgemeines   \n22659 2021-08-15 17:23:17        2911  1-allgemeines   \n\n       Andere systemische Therapie  Andere topische Therapie  Badetherapie  \\\n96315                        False                     False         False   \n96316                        False                     False         False   \n96317                        False                     False         False   \n30501                        False                     False         False   \n30498                        False                     False         False   \n...                            ...                       ...           ...   \n73863                        False                     False         False   \n73351                        False                     False         False   \n22658                        False                     False         False   \n22660                        False                     False         False   \n22659                        False                     False         False   \n\n       Biologicals  Kortison  Kortison (topisch)  Lichttherapie  Methotrexat  \\\n96315        False     False               False          False        False   \n96316        False     False               False          False        False   \n96317        False     False               False          False        False   \n30501        False     False               False          False        False   \n30498        False     False               False          False        False   \n...            ...       ...                 ...            ...          ...   \n73863        False     False               False          False        False   \n73351        False     False               False          False        False   \n22658        False     False               False          False        False   \n22660        False     False               False          False        False   \n22659        False     False               False          False        False   \n\n       Naturheilmittel  Sonstige Therapie  \n96315            False              False  \n96316            False              False  \n96317            False              False  \n30501            False              False  \n30498            False              False  \n...                ...                ...  \n73863            False              False  \n73351            False              False  \n22658            False              False  \n22660            False              False  \n22659            False              False  \n\n[55888 rows x 16 columns]",
      "text/html": "<div>\n<style scoped>\n    .dataframe tbody tr th:only-of-type {\n        vertical-align: middle;\n    }\n\n    .dataframe tbody tr th {\n        vertical-align: top;\n    }\n\n    .dataframe thead th {\n        text-align: right;\n    }\n</style>\n<table border=\"1\" class=\"dataframe\">\n  <thead>\n    <tr style=\"text-align: right;\">\n      <th></th>\n      <th>post_id</th>\n      <th>text</th>\n      <th>user</th>\n      <th>timestamp</th>\n      <th>subject_id</th>\n      <th>forum_id</th>\n      <th>Andere systemische Therapie</th>\n      <th>Andere topische Therapie</th>\n      <th>Badetherapie</th>\n      <th>Biologicals</th>\n      <th>Kortison</th>\n      <th>Kortison (topisch)</th>\n      <th>Lichttherapie</th>\n      <th>Methotrexat</th>\n      <th>Naturheilmittel</th>\n      <th>Sonstige Therapie</th>\n    </tr>\n  </thead>\n  <tbody>\n    <tr>\n      <th>96315</th>\n      <td>170079</td>\n      <td>zunehmend oft höre ich über die problematik d...</td>\n      <td>Annamaria</td>\n      <td>2010-01-01 21:48:37</td>\n      <td>13338</td>\n      <td>4-community</td>\n      <td>False</td>\n      <td>False</td>\n      <td>False</td>\n      <td>False</td>\n      <td>False</td>\n      <td>False</td>\n      <td>False</td>\n      <td>False</td>\n      <td>False</td>\n      <td>False</td>\n    </tr>\n    <tr>\n      <th>96316</th>\n      <td>170082</td>\n      <td>Hallo Annamaria,  herzlich Willkommen hier im...</td>\n      <td>Fischi</td>\n      <td>2010-01-01 21:48:37</td>\n      <td>13338</td>\n      <td>4-community</td>\n      <td>False</td>\n      <td>False</td>\n      <td>False</td>\n      <td>False</td>\n      <td>False</td>\n      <td>False</td>\n      <td>False</td>\n      <td>False</td>\n      <td>False</td>\n      <td>False</td>\n    </tr>\n    <tr>\n      <th>96317</th>\n      <td>170210</td>\n      <td>hallo, Annamaria -  ich wünsche dir wirklich ...</td>\n      <td>Bibi</td>\n      <td>2010-01-01 21:48:37</td>\n      <td>13338</td>\n      <td>4-community</td>\n      <td>False</td>\n      <td>False</td>\n      <td>False</td>\n      <td>False</td>\n      <td>False</td>\n      <td>False</td>\n      <td>False</td>\n      <td>False</td>\n      <td>False</td>\n      <td>False</td>\n    </tr>\n    <tr>\n      <th>30501</th>\n      <td>170251</td>\n      <td>Auch ich wünsche euch ein schönes und glückli...</td>\n      <td>BlackLady</td>\n      <td>2010-01-02 10:13:06</td>\n      <td>3969</td>\n      <td>1-allgemeines</td>\n      <td>False</td>\n      <td>False</td>\n      <td>False</td>\n      <td>False</td>\n      <td>False</td>\n      <td>False</td>\n      <td>False</td>\n      <td>False</td>\n      <td>False</td>\n      <td>False</td>\n    </tr>\n    <tr>\n      <th>30498</th>\n      <td>170019</td>\n      <td>Ich wünsche Allen   Frohes Neues Jahr GB Pics...</td>\n      <td>Bernd-57</td>\n      <td>2010-01-02 10:13:06</td>\n      <td>3969</td>\n      <td>1-allgemeines</td>\n      <td>False</td>\n      <td>False</td>\n      <td>False</td>\n      <td>False</td>\n      <td>False</td>\n      <td>False</td>\n      <td>False</td>\n      <td>False</td>\n      <td>False</td>\n      <td>False</td>\n    </tr>\n    <tr>\n      <th>...</th>\n      <td>...</td>\n      <td>...</td>\n      <td>...</td>\n      <td>...</td>\n      <td>...</td>\n      <td>...</td>\n      <td>...</td>\n      <td>...</td>\n      <td>...</td>\n      <td>...</td>\n      <td>...</td>\n      <td>...</td>\n      <td>...</td>\n      <td>...</td>\n      <td>...</td>\n      <td>...</td>\n    </tr>\n    <tr>\n      <th>73863</th>\n      <td>424715</td>\n      <td>vor 1 Stunde schrieb Clau dia:   Übrigens. I...</td>\n      <td>Claudia</td>\n      <td>2021-08-13 12:12:17</td>\n      <td>10061</td>\n      <td>4-community</td>\n      <td>False</td>\n      <td>False</td>\n      <td>False</td>\n      <td>False</td>\n      <td>False</td>\n      <td>False</td>\n      <td>False</td>\n      <td>False</td>\n      <td>False</td>\n      <td>False</td>\n    </tr>\n    <tr>\n      <th>73351</th>\n      <td>443736</td>\n      <td>Unser Sommertreffen rückt näher. Wer es im Ka...</td>\n      <td>Claudia</td>\n      <td>2021-08-15 09:57:56</td>\n      <td>10000</td>\n      <td>4-community</td>\n      <td>False</td>\n      <td>False</td>\n      <td>False</td>\n      <td>False</td>\n      <td>False</td>\n      <td>False</td>\n      <td>False</td>\n      <td>False</td>\n      <td>False</td>\n      <td>False</td>\n    </tr>\n    <tr>\n      <th>22658</th>\n      <td>443739</td>\n      <td>Hallo und Euch einen schönen Sonntag,  da ich...</td>\n      <td>BlackFlag</td>\n      <td>2021-08-15 17:23:17</td>\n      <td>2911</td>\n      <td>1-allgemeines</td>\n      <td>False</td>\n      <td>False</td>\n      <td>False</td>\n      <td>False</td>\n      <td>False</td>\n      <td>False</td>\n      <td>False</td>\n      <td>False</td>\n      <td>False</td>\n      <td>False</td>\n    </tr>\n    <tr>\n      <th>22660</th>\n      <td>443745</td>\n      <td>hallo, BlackFlag -  ich musste erst einmal im...</td>\n      <td>Bibi</td>\n      <td>2021-08-15 17:23:17</td>\n      <td>2911</td>\n      <td>1-allgemeines</td>\n      <td>False</td>\n      <td>False</td>\n      <td>False</td>\n      <td>False</td>\n      <td>False</td>\n      <td>False</td>\n      <td>False</td>\n      <td>False</td>\n      <td>False</td>\n      <td>False</td>\n    </tr>\n    <tr>\n      <th>22659</th>\n      <td>443741</td>\n      <td>Hi @BlackFlag   was befürchtest du denn bezüg...</td>\n      <td>Claudia</td>\n      <td>2021-08-15 17:23:17</td>\n      <td>2911</td>\n      <td>1-allgemeines</td>\n      <td>False</td>\n      <td>False</td>\n      <td>False</td>\n      <td>False</td>\n      <td>False</td>\n      <td>False</td>\n      <td>False</td>\n      <td>False</td>\n      <td>False</td>\n      <td>False</td>\n    </tr>\n  </tbody>\n</table>\n<p>55888 rows × 16 columns</p>\n</div>"
     },
     "execution_count": 29,
     "metadata": {},
     "output_type": "execute_result"
    }
   ],
   "source": [
    "def contains_any(string, keyword_list):\n",
    "    return any(keyword in string for keyword in keyword_list)\n",
    "\n",
    "for index, row in mentions.iterrows():\n",
    "    for category in treatment_categories:\n",
    "        mentions.at[index,category] = contains_any(row['text'], keywords[category])\n",
    "mentions"
   ],
   "metadata": {
    "collapsed": false,
    "pycharm": {
     "name": "#%%\n"
    }
   }
  },
  {
   "cell_type": "markdown",
   "source": [],
   "metadata": {
    "collapsed": false,
    "pycharm": {
     "name": "#%% md\n"
    }
   }
  },
  {
   "cell_type": "code",
   "execution_count": 34,
   "outputs": [
    {
     "ename": "ValueError",
     "evalue": "could not broadcast input array from shape (55888,16) into shape (55888,)",
     "output_type": "error",
     "traceback": [
      "\u001B[1;31m---------------------------------------------------------------------------\u001B[0m",
      "\u001B[1;31mValueError\u001B[0m                                Traceback (most recent call last)",
      "Input \u001B[1;32mIn [34]\u001B[0m, in \u001B[0;36m<module>\u001B[1;34m\u001B[0m\n\u001B[0;32m      1\u001B[0m \u001B[38;5;66;03m# visualize\u001B[39;00m\n\u001B[0;32m      2\u001B[0m \u001B[38;5;66;03m# overall_mentions = % of all posts per category\u001B[39;00m\n\u001B[1;32m----> 4\u001B[0m treatment_mentions \u001B[38;5;241m=\u001B[39m \u001B[43mpd\u001B[49m\u001B[38;5;241;43m.\u001B[39;49m\u001B[43mvalue_counts\u001B[49m\u001B[43m(\u001B[49m\u001B[43mmentions\u001B[49m\u001B[43m)\u001B[49m\n\u001B[0;32m      5\u001B[0m treatment_mentions\n",
      "File \u001B[1;32mC:\\ProgramFiles\\Python39\\lib\\site-packages\\pandas\\core\\algorithms.py:865\u001B[0m, in \u001B[0;36mvalue_counts\u001B[1;34m(values, sort, ascending, normalize, bins, dropna)\u001B[0m\n\u001B[0;32m    862\u001B[0m         counts \u001B[38;5;241m=\u001B[39m result\u001B[38;5;241m.\u001B[39m_values\n\u001B[0;32m    864\u001B[0m     \u001B[38;5;28;01melse\u001B[39;00m:\n\u001B[1;32m--> 865\u001B[0m         keys, counts \u001B[38;5;241m=\u001B[39m \u001B[43mvalue_counts_arraylike\u001B[49m\u001B[43m(\u001B[49m\u001B[43mvalues\u001B[49m\u001B[43m,\u001B[49m\u001B[43m \u001B[49m\u001B[43mdropna\u001B[49m\u001B[43m)\u001B[49m\n\u001B[0;32m    867\u001B[0m         result \u001B[38;5;241m=\u001B[39m Series(counts, index\u001B[38;5;241m=\u001B[39mkeys, name\u001B[38;5;241m=\u001B[39mname)\n\u001B[0;32m    869\u001B[0m \u001B[38;5;28;01mif\u001B[39;00m sort:\n",
      "File \u001B[1;32mC:\\ProgramFiles\\Python39\\lib\\site-packages\\pandas\\core\\algorithms.py:891\u001B[0m, in \u001B[0;36mvalue_counts_arraylike\u001B[1;34m(values, dropna)\u001B[0m\n\u001B[0;32m    879\u001B[0m \u001B[38;5;28;01mdef\u001B[39;00m \u001B[38;5;21mvalue_counts_arraylike\u001B[39m(values, dropna: \u001B[38;5;28mbool\u001B[39m):\n\u001B[0;32m    880\u001B[0m     \u001B[38;5;124;03m\"\"\"\u001B[39;00m\n\u001B[0;32m    881\u001B[0m \u001B[38;5;124;03m    Parameters\u001B[39;00m\n\u001B[0;32m    882\u001B[0m \u001B[38;5;124;03m    ----------\u001B[39;00m\n\u001B[1;32m   (...)\u001B[0m\n\u001B[0;32m    889\u001B[0m \u001B[38;5;124;03m    counts : np.ndarray\u001B[39;00m\n\u001B[0;32m    890\u001B[0m \u001B[38;5;124;03m    \"\"\"\u001B[39;00m\n\u001B[1;32m--> 891\u001B[0m     values \u001B[38;5;241m=\u001B[39m \u001B[43m_ensure_arraylike\u001B[49m\u001B[43m(\u001B[49m\u001B[43mvalues\u001B[49m\u001B[43m)\u001B[49m\n\u001B[0;32m    892\u001B[0m     original \u001B[38;5;241m=\u001B[39m values\n\u001B[0;32m    893\u001B[0m     values \u001B[38;5;241m=\u001B[39m _ensure_data(values)\n",
      "File \u001B[1;32mC:\\ProgramFiles\\Python39\\lib\\site-packages\\pandas\\core\\algorithms.py:247\u001B[0m, in \u001B[0;36m_ensure_arraylike\u001B[1;34m(values)\u001B[0m\n\u001B[0;32m    245\u001B[0m     \u001B[38;5;28;01mif\u001B[39;00m \u001B[38;5;28misinstance\u001B[39m(values, \u001B[38;5;28mtuple\u001B[39m):\n\u001B[0;32m    246\u001B[0m         values \u001B[38;5;241m=\u001B[39m \u001B[38;5;28mlist\u001B[39m(values)\n\u001B[1;32m--> 247\u001B[0m     values \u001B[38;5;241m=\u001B[39m \u001B[43mconstruct_1d_object_array_from_listlike\u001B[49m\u001B[43m(\u001B[49m\u001B[43mvalues\u001B[49m\u001B[43m)\u001B[49m\n\u001B[0;32m    248\u001B[0m \u001B[38;5;28;01melse\u001B[39;00m:\n\u001B[0;32m    249\u001B[0m     values \u001B[38;5;241m=\u001B[39m np\u001B[38;5;241m.\u001B[39masarray(values)\n",
      "File \u001B[1;32mC:\\ProgramFiles\\Python39\\lib\\site-packages\\pandas\\core\\dtypes\\cast.py:1981\u001B[0m, in \u001B[0;36mconstruct_1d_object_array_from_listlike\u001B[1;34m(values)\u001B[0m\n\u001B[0;32m   1978\u001B[0m \u001B[38;5;66;03m# numpy will try to interpret nested lists as further dimensions, hence\u001B[39;00m\n\u001B[0;32m   1979\u001B[0m \u001B[38;5;66;03m# making a 1D array that contains list-likes is a bit tricky:\u001B[39;00m\n\u001B[0;32m   1980\u001B[0m result \u001B[38;5;241m=\u001B[39m np\u001B[38;5;241m.\u001B[39mempty(\u001B[38;5;28mlen\u001B[39m(values), dtype\u001B[38;5;241m=\u001B[39m\u001B[38;5;124m\"\u001B[39m\u001B[38;5;124mobject\u001B[39m\u001B[38;5;124m\"\u001B[39m)\n\u001B[1;32m-> 1981\u001B[0m result[:] \u001B[38;5;241m=\u001B[39m values\n\u001B[0;32m   1982\u001B[0m \u001B[38;5;28;01mreturn\u001B[39;00m result\n",
      "\u001B[1;31mValueError\u001B[0m: could not broadcast input array from shape (55888,16) into shape (55888,)"
     ]
    }
   ],
   "source": [
    "# visualize\n",
    "# overall_mentions = % of all posts per category\n",
    "\n",
    "treatment_mentions = pd.value_counts(mentions)\n",
    "treatment_mentions"
   ],
   "metadata": {
    "collapsed": false,
    "pycharm": {
     "name": "#%%\n"
    }
   }
  },
  {
   "cell_type": "markdown",
   "source": [
    "Monthly mentions"
   ],
   "metadata": {
    "collapsed": false,
    "pycharm": {
     "name": "#%% md\n"
    }
   }
  },
  {
   "cell_type": "code",
   "execution_count": null,
   "outputs": [],
   "source": [
    "#visualize\n",
    "monthly_mentions = % of all posts per category, group by month"
   ],
   "metadata": {
    "collapsed": false,
    "pycharm": {
     "name": "#%%\n"
    }
   }
  }
 ],
 "metadata": {
  "kernelspec": {
   "display_name": "Python 3",
   "language": "python",
   "name": "python3"
  },
  "language_info": {
   "codemirror_mode": {
    "name": "ipython",
    "version": 2
   },
   "file_extension": ".py",
   "mimetype": "text/x-python",
   "name": "python",
   "nbconvert_exporter": "python",
   "pygments_lexer": "ipython2",
   "version": "2.7.6"
  }
 },
 "nbformat": 4,
 "nbformat_minor": 0
}