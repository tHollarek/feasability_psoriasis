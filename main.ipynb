{
 "cells": [
  {
   "cell_type": "markdown",
   "source": [
    "Imports"
   ],
   "metadata": {
    "collapsed": false,
    "pycharm": {
     "name": "#%% md\n"
    }
   }
  },
  {
   "cell_type": "code",
   "execution_count": 31,
   "outputs": [],
   "source": [
    "import pandas as pd"
   ],
   "metadata": {
    "collapsed": false,
    "pycharm": {
     "name": "#%%\n"
    }
   }
  },
  {
   "cell_type": "markdown",
   "source": [
    "Load sample data"
   ],
   "metadata": {
    "collapsed": false,
    "pycharm": {
     "name": "#%% md\n"
    }
   }
  },
  {
   "cell_type": "code",
   "execution_count": 41,
   "outputs": [
    {
     "data": {
      "text/plain": "             post_id    subject_id\ncount   55888.000000  55888.000000\nmean   295281.444639   6638.687947\nstd     85454.930439   4006.295691\nmin        91.000000      2.000000\n25%    237270.250000   3035.750000\n50%    300830.000000   6619.000000\n75%    366525.250000  10170.000000\nmax    443745.000000  13682.000000",
      "text/html": "<div>\n<style scoped>\n    .dataframe tbody tr th:only-of-type {\n        vertical-align: middle;\n    }\n\n    .dataframe tbody tr th {\n        vertical-align: top;\n    }\n\n    .dataframe thead th {\n        text-align: right;\n    }\n</style>\n<table border=\"1\" class=\"dataframe\">\n  <thead>\n    <tr style=\"text-align: right;\">\n      <th></th>\n      <th>post_id</th>\n      <th>subject_id</th>\n    </tr>\n  </thead>\n  <tbody>\n    <tr>\n      <th>count</th>\n      <td>55888.000000</td>\n      <td>55888.000000</td>\n    </tr>\n    <tr>\n      <th>mean</th>\n      <td>295281.444639</td>\n      <td>6638.687947</td>\n    </tr>\n    <tr>\n      <th>std</th>\n      <td>85454.930439</td>\n      <td>4006.295691</td>\n    </tr>\n    <tr>\n      <th>min</th>\n      <td>91.000000</td>\n      <td>2.000000</td>\n    </tr>\n    <tr>\n      <th>25%</th>\n      <td>237270.250000</td>\n      <td>3035.750000</td>\n    </tr>\n    <tr>\n      <th>50%</th>\n      <td>300830.000000</td>\n      <td>6619.000000</td>\n    </tr>\n    <tr>\n      <th>75%</th>\n      <td>366525.250000</td>\n      <td>10170.000000</td>\n    </tr>\n    <tr>\n      <th>max</th>\n      <td>443745.000000</td>\n      <td>13682.000000</td>\n    </tr>\n  </tbody>\n</table>\n</div>"
     },
     "execution_count": 41,
     "metadata": {},
     "output_type": "execute_result"
    }
   ],
   "source": [
    "posts = pd.read_parquet('coding_task_ds_2021-09/psoriasis_all_posts.parquet')\n",
    "treatments = pd.read_excel('coding_task_ds_2021-09/keywords_psoriasis_therapies.xlsx')\n",
    "# posts.head()\n",
    "posts.describe()\n",
    "# treatments.head()\n",
    "# treatments.describe()"
   ],
   "metadata": {
    "collapsed": false,
    "pycharm": {
     "name": "#%%\n"
    }
   }
  },
  {
   "cell_type": "markdown",
   "source": [
    "Calculate treatment mentions for posts"
   ],
   "metadata": {
    "collapsed": false,
    "pycharm": {
     "name": "#%% md\n"
    }
   },
   "execution_count": 0
  },
  {
   "cell_type": "code",
   "execution_count": 26,
   "outputs": [],
   "source": [
    "treatment_categories = treatments.category.unique()"
   ],
   "metadata": {
    "collapsed": false,
    "pycharm": {
     "name": "#%%\n"
    }
   }
  },
  {
   "cell_type": "code",
   "execution_count": 27,
   "outputs": [
    {
     "data": {
      "text/plain": "{'Andere systemische Therapie': array(['Apremilast', 'Phosphodiesterase-Hemmer', 'Otezla',\n        'PDE4-Inhibitor', 'Ciclosporin', 'Cicloral', 'Immunosporin',\n        'Fumarsäureester', 'Fumarsäuredimethylester', 'Fumaderm',\n        'Ethylhydrogenfumarat', 'Retinoid', 'Retinol', 'Vitamin A',\n        'Acitretin'], dtype=object),\n 'Andere topische Therapie': array(['B12', 'Cyanocobalamin', 'Avocadoöl', 'Dithranol', 'Cignolin',\n        'Anthralin', 'Psoradexan', 'Salizylsäure', 'Spirsäure',\n        'Calcipotriol', 'Tacalcitol', 'Vitamin+D'], dtype=object),\n 'Badetherapie': array(['Badetherapie', 'Balneo', 'Fango', 'Fischtherapie', 'garra rufa',\n        'Kangalfische', 'Knabberfische', 'Saugbarbe', 'Salzbäder',\n        'Salzbad', 'Sole', 'Vulkanwasser'], dtype=object),\n 'Biologicals': array(['Adalimumab', 'Humira', 'IgG1', 'Bimekizumab', 'Brodalumab',\n        'Kyntheum', 'Etanercept', 'Fusionsproteine', 'Enbrel',\n        'Guselkumab', 'Tremfya', 'Infliximab', 'Remicade', 'Ixekizumab',\n        'Taltz', 'Talz', 'Risankizumab', 'Skyrizi', 'Secukinumab',\n        'Cosentyx', 'Costentix', 'Costenyx', 'AIN457', 'anti-interleukin',\n        'interleukin', 'Tildrakizumab', 'Ilumetri', 'Ilumya',\n        'TNF-Blocker', 'TNF', 'Ustekinumab', 'Stelara'], dtype=object),\n 'Kortison': array(['Kortison', 'Cortison'], dtype=object),\n 'Kortison (topisch)': array(['Betagalen', 'Clobetasol', 'Dermatop', 'Enstilar', 'Kortisoncreme',\n        'Cortisoncreme', 'Kortisonsalbe', 'Cortisonsalbe', 'Momegalen',\n        'Neyzar', 'Silkis', 'Triamgalen', 'Xamiol'], dtype=object),\n 'Lichttherapie': array(['Lasertherapie', 'Excimer-Laser', 'Excimer', 'Xenon',\n        'Xenon+Chlorid+Gas', 'LED', 'Blaue+Licht', 'Lichttherapie',\n        'Phototherapie', 'Schmalspektrum', 'Ultraviolettstrahlung',\n        'Strahlung', 'Bestrahlung', 'UV+Bestrahlung', 'SUP', 'PUVA',\n        'Psoralen-UVA', 'Psoralen '], dtype=object),\n 'Methotrexat': array(['Methotrexat', 'MTX', 'Bendatrexat', 'Lantarel', 'Metex',\n        'Neotrexat'], dtype=object),\n 'Naturheilmittel': array(['ayurveda', 'Färberwurzel', 'Gelbwurz', 'Horvitrigon', 'Horvi',\n        'Horvizym', 'Indrajao', 'Iqlind', 'Niem', 'Olivenöl', 'Rosatum',\n        'Kieselsäure', 'Sorion', 'Urea', 'Urea pura', 'Harnstoff'],\n       dtype=object),\n 'Sonstige Therapie': array(['Akupunktur', 'Akkupunktur', 'Bioresonanz', 'Elektrotherapie',\n        'Gaumenmandeln', 'Mandeln', 'Schmerztherapie', 'Stoßtherapie',\n        'TCM', 'Chinesische Medizin', 'Wassergymnastik'], dtype=object)}"
     },
     "execution_count": 27,
     "metadata": {},
     "output_type": "execute_result"
    }
   ],
   "source": [
    "keywords = dict()\n",
    "for category in treatment_categories:\n",
    "    category_keywords = treatments[treatments.category.eq(category)]\n",
    "    keywords[category] = category_keywords.keyword.unique()\n",
    "keywords"
   ],
   "metadata": {
    "collapsed": false,
    "pycharm": {
     "name": "#%%\n"
    }
   }
  },
  {
   "cell_type": "code",
   "source": [
    "# go through posts and \"tag\" with treatments by category\n",
    "def add_columns(df, columns):\n",
    "    extended = df.copy()\n",
    "    for column in columns:\n",
    "        extended[column] = False\n",
    "    return extended\n",
    "\n",
    "mentions = add_columns(posts, treatment_categories)\n",
    "mentions"
   ],
   "metadata": {
    "collapsed": false,
    "pycharm": {
     "name": "#%%\n"
    }
   },
   "execution_count": 28,
   "outputs": [
    {
     "data": {
      "text/plain": "       post_id                                               text       user  \\\n96315   170079   zunehmend oft höre ich über die problematik d...  Annamaria   \n96316   170082   Hallo Annamaria,  herzlich Willkommen hier im...     Fischi   \n96317   170210   hallo, Annamaria -  ich wünsche dir wirklich ...       Bibi   \n30501   170251   Auch ich wünsche euch ein schönes und glückli...  BlackLady   \n30498   170019   Ich wünsche Allen   Frohes Neues Jahr GB Pics...   Bernd-57   \n...        ...                                                ...        ...   \n73863   424715    vor 1 Stunde schrieb Clau dia:   Übrigens. I...    Claudia   \n73351   443736   Unser Sommertreffen rückt näher. Wer es im Ka...    Claudia   \n22658   443739   Hallo und Euch einen schönen Sonntag,  da ich...  BlackFlag   \n22660   443745   hallo, BlackFlag -  ich musste erst einmal im...       Bibi   \n22659   443741   Hi @BlackFlag   was befürchtest du denn bezüg...    Claudia   \n\n                timestamp  subject_id       forum_id  \\\n96315 2010-01-01 21:48:37       13338    4-community   \n96316 2010-01-01 21:48:37       13338    4-community   \n96317 2010-01-01 21:48:37       13338    4-community   \n30501 2010-01-02 10:13:06        3969  1-allgemeines   \n30498 2010-01-02 10:13:06        3969  1-allgemeines   \n...                   ...         ...            ...   \n73863 2021-08-13 12:12:17       10061    4-community   \n73351 2021-08-15 09:57:56       10000    4-community   \n22658 2021-08-15 17:23:17        2911  1-allgemeines   \n22660 2021-08-15 17:23:17        2911  1-allgemeines   \n22659 2021-08-15 17:23:17        2911  1-allgemeines   \n\n       Andere systemische Therapie  Andere topische Therapie  Badetherapie  \\\n96315                        False                     False         False   \n96316                        False                     False         False   \n96317                        False                     False         False   \n30501                        False                     False         False   \n30498                        False                     False         False   \n...                            ...                       ...           ...   \n73863                        False                     False         False   \n73351                        False                     False         False   \n22658                        False                     False         False   \n22660                        False                     False         False   \n22659                        False                     False         False   \n\n       Biologicals  Kortison  Kortison (topisch)  Lichttherapie  Methotrexat  \\\n96315        False     False               False          False        False   \n96316        False     False               False          False        False   \n96317        False     False               False          False        False   \n30501        False     False               False          False        False   \n30498        False     False               False          False        False   \n...            ...       ...                 ...            ...          ...   \n73863        False     False               False          False        False   \n73351        False     False               False          False        False   \n22658        False     False               False          False        False   \n22660        False     False               False          False        False   \n22659        False     False               False          False        False   \n\n       Naturheilmittel  Sonstige Therapie  \n96315            False              False  \n96316            False              False  \n96317            False              False  \n30501            False              False  \n30498            False              False  \n...                ...                ...  \n73863            False              False  \n73351            False              False  \n22658            False              False  \n22660            False              False  \n22659            False              False  \n\n[55888 rows x 16 columns]",
      "text/html": "<div>\n<style scoped>\n    .dataframe tbody tr th:only-of-type {\n        vertical-align: middle;\n    }\n\n    .dataframe tbody tr th {\n        vertical-align: top;\n    }\n\n    .dataframe thead th {\n        text-align: right;\n    }\n</style>\n<table border=\"1\" class=\"dataframe\">\n  <thead>\n    <tr style=\"text-align: right;\">\n      <th></th>\n      <th>post_id</th>\n      <th>text</th>\n      <th>user</th>\n      <th>timestamp</th>\n      <th>subject_id</th>\n      <th>forum_id</th>\n      <th>Andere systemische Therapie</th>\n      <th>Andere topische Therapie</th>\n      <th>Badetherapie</th>\n      <th>Biologicals</th>\n      <th>Kortison</th>\n      <th>Kortison (topisch)</th>\n      <th>Lichttherapie</th>\n      <th>Methotrexat</th>\n      <th>Naturheilmittel</th>\n      <th>Sonstige Therapie</th>\n    </tr>\n  </thead>\n  <tbody>\n    <tr>\n      <th>96315</th>\n      <td>170079</td>\n      <td>zunehmend oft höre ich über die problematik d...</td>\n      <td>Annamaria</td>\n      <td>2010-01-01 21:48:37</td>\n      <td>13338</td>\n      <td>4-community</td>\n      <td>False</td>\n      <td>False</td>\n      <td>False</td>\n      <td>False</td>\n      <td>False</td>\n      <td>False</td>\n      <td>False</td>\n      <td>False</td>\n      <td>False</td>\n      <td>False</td>\n    </tr>\n    <tr>\n      <th>96316</th>\n      <td>170082</td>\n      <td>Hallo Annamaria,  herzlich Willkommen hier im...</td>\n      <td>Fischi</td>\n      <td>2010-01-01 21:48:37</td>\n      <td>13338</td>\n      <td>4-community</td>\n      <td>False</td>\n      <td>False</td>\n      <td>False</td>\n      <td>False</td>\n      <td>False</td>\n      <td>False</td>\n      <td>False</td>\n      <td>False</td>\n      <td>False</td>\n      <td>False</td>\n    </tr>\n    <tr>\n      <th>96317</th>\n      <td>170210</td>\n      <td>hallo, Annamaria -  ich wünsche dir wirklich ...</td>\n      <td>Bibi</td>\n      <td>2010-01-01 21:48:37</td>\n      <td>13338</td>\n      <td>4-community</td>\n      <td>False</td>\n      <td>False</td>\n      <td>False</td>\n      <td>False</td>\n      <td>False</td>\n      <td>False</td>\n      <td>False</td>\n      <td>False</td>\n      <td>False</td>\n      <td>False</td>\n    </tr>\n    <tr>\n      <th>30501</th>\n      <td>170251</td>\n      <td>Auch ich wünsche euch ein schönes und glückli...</td>\n      <td>BlackLady</td>\n      <td>2010-01-02 10:13:06</td>\n      <td>3969</td>\n      <td>1-allgemeines</td>\n      <td>False</td>\n      <td>False</td>\n      <td>False</td>\n      <td>False</td>\n      <td>False</td>\n      <td>False</td>\n      <td>False</td>\n      <td>False</td>\n      <td>False</td>\n      <td>False</td>\n    </tr>\n    <tr>\n      <th>30498</th>\n      <td>170019</td>\n      <td>Ich wünsche Allen   Frohes Neues Jahr GB Pics...</td>\n      <td>Bernd-57</td>\n      <td>2010-01-02 10:13:06</td>\n      <td>3969</td>\n      <td>1-allgemeines</td>\n      <td>False</td>\n      <td>False</td>\n      <td>False</td>\n      <td>False</td>\n      <td>False</td>\n      <td>False</td>\n      <td>False</td>\n      <td>False</td>\n      <td>False</td>\n      <td>False</td>\n    </tr>\n    <tr>\n      <th>...</th>\n      <td>...</td>\n      <td>...</td>\n      <td>...</td>\n      <td>...</td>\n      <td>...</td>\n      <td>...</td>\n      <td>...</td>\n      <td>...</td>\n      <td>...</td>\n      <td>...</td>\n      <td>...</td>\n      <td>...</td>\n      <td>...</td>\n      <td>...</td>\n      <td>...</td>\n      <td>...</td>\n    </tr>\n    <tr>\n      <th>73863</th>\n      <td>424715</td>\n      <td>vor 1 Stunde schrieb Clau dia:   Übrigens. I...</td>\n      <td>Claudia</td>\n      <td>2021-08-13 12:12:17</td>\n      <td>10061</td>\n      <td>4-community</td>\n      <td>False</td>\n      <td>False</td>\n      <td>False</td>\n      <td>False</td>\n      <td>False</td>\n      <td>False</td>\n      <td>False</td>\n      <td>False</td>\n      <td>False</td>\n      <td>False</td>\n    </tr>\n    <tr>\n      <th>73351</th>\n      <td>443736</td>\n      <td>Unser Sommertreffen rückt näher. Wer es im Ka...</td>\n      <td>Claudia</td>\n      <td>2021-08-15 09:57:56</td>\n      <td>10000</td>\n      <td>4-community</td>\n      <td>False</td>\n      <td>False</td>\n      <td>False</td>\n      <td>False</td>\n      <td>False</td>\n      <td>False</td>\n      <td>False</td>\n      <td>False</td>\n      <td>False</td>\n      <td>False</td>\n    </tr>\n    <tr>\n      <th>22658</th>\n      <td>443739</td>\n      <td>Hallo und Euch einen schönen Sonntag,  da ich...</td>\n      <td>BlackFlag</td>\n      <td>2021-08-15 17:23:17</td>\n      <td>2911</td>\n      <td>1-allgemeines</td>\n      <td>False</td>\n      <td>False</td>\n      <td>False</td>\n      <td>False</td>\n      <td>False</td>\n      <td>False</td>\n      <td>False</td>\n      <td>False</td>\n      <td>False</td>\n      <td>False</td>\n    </tr>\n    <tr>\n      <th>22660</th>\n      <td>443745</td>\n      <td>hallo, BlackFlag -  ich musste erst einmal im...</td>\n      <td>Bibi</td>\n      <td>2021-08-15 17:23:17</td>\n      <td>2911</td>\n      <td>1-allgemeines</td>\n      <td>False</td>\n      <td>False</td>\n      <td>False</td>\n      <td>False</td>\n      <td>False</td>\n      <td>False</td>\n      <td>False</td>\n      <td>False</td>\n      <td>False</td>\n      <td>False</td>\n    </tr>\n    <tr>\n      <th>22659</th>\n      <td>443741</td>\n      <td>Hi @BlackFlag   was befürchtest du denn bezüg...</td>\n      <td>Claudia</td>\n      <td>2021-08-15 17:23:17</td>\n      <td>2911</td>\n      <td>1-allgemeines</td>\n      <td>False</td>\n      <td>False</td>\n      <td>False</td>\n      <td>False</td>\n      <td>False</td>\n      <td>False</td>\n      <td>False</td>\n      <td>False</td>\n      <td>False</td>\n      <td>False</td>\n    </tr>\n  </tbody>\n</table>\n<p>55888 rows × 16 columns</p>\n</div>"
     },
     "execution_count": 28,
     "metadata": {},
     "output_type": "execute_result"
    }
   ]
  },
  {
   "cell_type": "code",
   "execution_count": 29,
   "outputs": [
    {
     "data": {
      "text/plain": "       post_id                                               text       user  \\\n96315   170079   zunehmend oft höre ich über die problematik d...  Annamaria   \n96316   170082   Hallo Annamaria,  herzlich Willkommen hier im...     Fischi   \n96317   170210   hallo, Annamaria -  ich wünsche dir wirklich ...       Bibi   \n30501   170251   Auch ich wünsche euch ein schönes und glückli...  BlackLady   \n30498   170019   Ich wünsche Allen   Frohes Neues Jahr GB Pics...   Bernd-57   \n...        ...                                                ...        ...   \n73863   424715    vor 1 Stunde schrieb Clau dia:   Übrigens. I...    Claudia   \n73351   443736   Unser Sommertreffen rückt näher. Wer es im Ka...    Claudia   \n22658   443739   Hallo und Euch einen schönen Sonntag,  da ich...  BlackFlag   \n22660   443745   hallo, BlackFlag -  ich musste erst einmal im...       Bibi   \n22659   443741   Hi @BlackFlag   was befürchtest du denn bezüg...    Claudia   \n\n                timestamp  subject_id       forum_id  \\\n96315 2010-01-01 21:48:37       13338    4-community   \n96316 2010-01-01 21:48:37       13338    4-community   \n96317 2010-01-01 21:48:37       13338    4-community   \n30501 2010-01-02 10:13:06        3969  1-allgemeines   \n30498 2010-01-02 10:13:06        3969  1-allgemeines   \n...                   ...         ...            ...   \n73863 2021-08-13 12:12:17       10061    4-community   \n73351 2021-08-15 09:57:56       10000    4-community   \n22658 2021-08-15 17:23:17        2911  1-allgemeines   \n22660 2021-08-15 17:23:17        2911  1-allgemeines   \n22659 2021-08-15 17:23:17        2911  1-allgemeines   \n\n       Andere systemische Therapie  Andere topische Therapie  Badetherapie  \\\n96315                        False                     False         False   \n96316                        False                     False         False   \n96317                        False                     False         False   \n30501                        False                     False         False   \n30498                        False                     False         False   \n...                            ...                       ...           ...   \n73863                        False                     False         False   \n73351                        False                     False         False   \n22658                        False                     False         False   \n22660                        False                     False         False   \n22659                        False                     False         False   \n\n       Biologicals  Kortison  Kortison (topisch)  Lichttherapie  Methotrexat  \\\n96315        False     False               False          False        False   \n96316        False     False               False          False        False   \n96317        False     False               False          False        False   \n30501        False     False               False          False        False   \n30498        False     False               False          False        False   \n...            ...       ...                 ...            ...          ...   \n73863        False     False               False          False        False   \n73351        False     False               False          False        False   \n22658        False     False               False          False        False   \n22660        False     False               False          False        False   \n22659        False     False               False          False        False   \n\n       Naturheilmittel  Sonstige Therapie  \n96315            False              False  \n96316            False              False  \n96317            False              False  \n30501            False              False  \n30498            False              False  \n...                ...                ...  \n73863            False              False  \n73351            False              False  \n22658            False              False  \n22660            False              False  \n22659            False              False  \n\n[55888 rows x 16 columns]",
      "text/html": "<div>\n<style scoped>\n    .dataframe tbody tr th:only-of-type {\n        vertical-align: middle;\n    }\n\n    .dataframe tbody tr th {\n        vertical-align: top;\n    }\n\n    .dataframe thead th {\n        text-align: right;\n    }\n</style>\n<table border=\"1\" class=\"dataframe\">\n  <thead>\n    <tr style=\"text-align: right;\">\n      <th></th>\n      <th>post_id</th>\n      <th>text</th>\n      <th>user</th>\n      <th>timestamp</th>\n      <th>subject_id</th>\n      <th>forum_id</th>\n      <th>Andere systemische Therapie</th>\n      <th>Andere topische Therapie</th>\n      <th>Badetherapie</th>\n      <th>Biologicals</th>\n      <th>Kortison</th>\n      <th>Kortison (topisch)</th>\n      <th>Lichttherapie</th>\n      <th>Methotrexat</th>\n      <th>Naturheilmittel</th>\n      <th>Sonstige Therapie</th>\n    </tr>\n  </thead>\n  <tbody>\n    <tr>\n      <th>96315</th>\n      <td>170079</td>\n      <td>zunehmend oft höre ich über die problematik d...</td>\n      <td>Annamaria</td>\n      <td>2010-01-01 21:48:37</td>\n      <td>13338</td>\n      <td>4-community</td>\n      <td>False</td>\n      <td>False</td>\n      <td>False</td>\n      <td>False</td>\n      <td>False</td>\n      <td>False</td>\n      <td>False</td>\n      <td>False</td>\n      <td>False</td>\n      <td>False</td>\n    </tr>\n    <tr>\n      <th>96316</th>\n      <td>170082</td>\n      <td>Hallo Annamaria,  herzlich Willkommen hier im...</td>\n      <td>Fischi</td>\n      <td>2010-01-01 21:48:37</td>\n      <td>13338</td>\n      <td>4-community</td>\n      <td>False</td>\n      <td>False</td>\n      <td>False</td>\n      <td>False</td>\n      <td>False</td>\n      <td>False</td>\n      <td>False</td>\n      <td>False</td>\n      <td>False</td>\n      <td>False</td>\n    </tr>\n    <tr>\n      <th>96317</th>\n      <td>170210</td>\n      <td>hallo, Annamaria -  ich wünsche dir wirklich ...</td>\n      <td>Bibi</td>\n      <td>2010-01-01 21:48:37</td>\n      <td>13338</td>\n      <td>4-community</td>\n      <td>False</td>\n      <td>False</td>\n      <td>False</td>\n      <td>False</td>\n      <td>False</td>\n      <td>False</td>\n      <td>False</td>\n      <td>False</td>\n      <td>False</td>\n      <td>False</td>\n    </tr>\n    <tr>\n      <th>30501</th>\n      <td>170251</td>\n      <td>Auch ich wünsche euch ein schönes und glückli...</td>\n      <td>BlackLady</td>\n      <td>2010-01-02 10:13:06</td>\n      <td>3969</td>\n      <td>1-allgemeines</td>\n      <td>False</td>\n      <td>False</td>\n      <td>False</td>\n      <td>False</td>\n      <td>False</td>\n      <td>False</td>\n      <td>False</td>\n      <td>False</td>\n      <td>False</td>\n      <td>False</td>\n    </tr>\n    <tr>\n      <th>30498</th>\n      <td>170019</td>\n      <td>Ich wünsche Allen   Frohes Neues Jahr GB Pics...</td>\n      <td>Bernd-57</td>\n      <td>2010-01-02 10:13:06</td>\n      <td>3969</td>\n      <td>1-allgemeines</td>\n      <td>False</td>\n      <td>False</td>\n      <td>False</td>\n      <td>False</td>\n      <td>False</td>\n      <td>False</td>\n      <td>False</td>\n      <td>False</td>\n      <td>False</td>\n      <td>False</td>\n    </tr>\n    <tr>\n      <th>...</th>\n      <td>...</td>\n      <td>...</td>\n      <td>...</td>\n      <td>...</td>\n      <td>...</td>\n      <td>...</td>\n      <td>...</td>\n      <td>...</td>\n      <td>...</td>\n      <td>...</td>\n      <td>...</td>\n      <td>...</td>\n      <td>...</td>\n      <td>...</td>\n      <td>...</td>\n      <td>...</td>\n    </tr>\n    <tr>\n      <th>73863</th>\n      <td>424715</td>\n      <td>vor 1 Stunde schrieb Clau dia:   Übrigens. I...</td>\n      <td>Claudia</td>\n      <td>2021-08-13 12:12:17</td>\n      <td>10061</td>\n      <td>4-community</td>\n      <td>False</td>\n      <td>False</td>\n      <td>False</td>\n      <td>False</td>\n      <td>False</td>\n      <td>False</td>\n      <td>False</td>\n      <td>False</td>\n      <td>False</td>\n      <td>False</td>\n    </tr>\n    <tr>\n      <th>73351</th>\n      <td>443736</td>\n      <td>Unser Sommertreffen rückt näher. Wer es im Ka...</td>\n      <td>Claudia</td>\n      <td>2021-08-15 09:57:56</td>\n      <td>10000</td>\n      <td>4-community</td>\n      <td>False</td>\n      <td>False</td>\n      <td>False</td>\n      <td>False</td>\n      <td>False</td>\n      <td>False</td>\n      <td>False</td>\n      <td>False</td>\n      <td>False</td>\n      <td>False</td>\n    </tr>\n    <tr>\n      <th>22658</th>\n      <td>443739</td>\n      <td>Hallo und Euch einen schönen Sonntag,  da ich...</td>\n      <td>BlackFlag</td>\n      <td>2021-08-15 17:23:17</td>\n      <td>2911</td>\n      <td>1-allgemeines</td>\n      <td>False</td>\n      <td>False</td>\n      <td>False</td>\n      <td>False</td>\n      <td>False</td>\n      <td>False</td>\n      <td>False</td>\n      <td>False</td>\n      <td>False</td>\n      <td>False</td>\n    </tr>\n    <tr>\n      <th>22660</th>\n      <td>443745</td>\n      <td>hallo, BlackFlag -  ich musste erst einmal im...</td>\n      <td>Bibi</td>\n      <td>2021-08-15 17:23:17</td>\n      <td>2911</td>\n      <td>1-allgemeines</td>\n      <td>False</td>\n      <td>False</td>\n      <td>False</td>\n      <td>False</td>\n      <td>False</td>\n      <td>False</td>\n      <td>False</td>\n      <td>False</td>\n      <td>False</td>\n      <td>False</td>\n    </tr>\n    <tr>\n      <th>22659</th>\n      <td>443741</td>\n      <td>Hi @BlackFlag   was befürchtest du denn bezüg...</td>\n      <td>Claudia</td>\n      <td>2021-08-15 17:23:17</td>\n      <td>2911</td>\n      <td>1-allgemeines</td>\n      <td>False</td>\n      <td>False</td>\n      <td>False</td>\n      <td>False</td>\n      <td>False</td>\n      <td>False</td>\n      <td>False</td>\n      <td>False</td>\n      <td>False</td>\n      <td>False</td>\n    </tr>\n  </tbody>\n</table>\n<p>55888 rows × 16 columns</p>\n</div>"
     },
     "execution_count": 29,
     "metadata": {},
     "output_type": "execute_result"
    }
   ],
   "source": [
    "def contains_any(string, keyword_list):\n",
    "    return any(keyword in string for keyword in keyword_list)\n",
    "\n",
    "for index, row in mentions.iterrows():\n",
    "    for category in treatment_categories:\n",
    "        mentions.at[index,category] = contains_any(row['text'], keywords[category])\n",
    "mentions"
   ],
   "metadata": {
    "collapsed": false,
    "pycharm": {
     "name": "#%%\n"
    }
   }
  },
  {
   "cell_type": "markdown",
   "source": [],
   "metadata": {
    "collapsed": false,
    "pycharm": {
     "name": "#%% md\n"
    }
   }
  },
  {
   "cell_type": "code",
   "execution_count": 81,
   "outputs": [
    {
     "data": {
      "text/plain": "<AxesSubplot:>"
     },
     "execution_count": 81,
     "metadata": {},
     "output_type": "execute_result"
    },
    {
     "data": {
      "text/plain": "<Figure size 1080x360 with 1 Axes>",
      "image/png": "[encoded data removed]"
     },
     "metadata": {
      "needs_background": "light"
     },
     "output_type": "display_data"
    }
   ],
   "source": [
    "# visualize\n",
    "# overall_mentions = % of all posts per category\n",
    "post_columns = posts.columns.unique()\n",
    "\n",
    "overall_treatment_mentions = mentions.drop(columns=post_columns).apply(pd.Series.value_counts).drop(False)/len(posts.index)\n",
    "overall_treatment_mentions.plot(kind='bar', figsize=(15,5))"
   ],
   "metadata": {
    "collapsed": false,
    "pycharm": {
     "name": "#%%\n"
    }
   }
  },
  {
   "cell_type": "markdown",
   "source": [
    "Monthly mentions"
   ],
   "metadata": {
    "collapsed": false,
    "pycharm": {
     "name": "#%% md\n"
    }
   }
  },
  {
   "cell_type": "code",
   "execution_count": 79,
   "outputs": [
    {
     "data": {
      "text/plain": "<bound method DataFrame.count of        post_id                                               text       user  \\\n96315   170079   zunehmend oft höre ich über die problematik d...  Annamaria   \n96316   170082   Hallo Annamaria,  herzlich Willkommen hier im...     Fischi   \n96317   170210   hallo, Annamaria -  ich wünsche dir wirklich ...       Bibi   \n30501   170251   Auch ich wünsche euch ein schönes und glückli...  BlackLady   \n30498   170019   Ich wünsche Allen   Frohes Neues Jahr GB Pics...   Bernd-57   \n...        ...                                                ...        ...   \n73863   424715    vor 1 Stunde schrieb Clau dia:   Übrigens. I...    Claudia   \n73351   443736   Unser Sommertreffen rückt näher. Wer es im Ka...    Claudia   \n22658   443739   Hallo und Euch einen schönen Sonntag,  da ich...  BlackFlag   \n22660   443745   hallo, BlackFlag -  ich musste erst einmal im...       Bibi   \n22659   443741   Hi @BlackFlag   was befürchtest du denn bezüg...    Claudia   \n\n                timestamp  subject_id       forum_id  \n96315 2010-01-01 21:48:37       13338    4-community  \n96316 2010-01-01 21:48:37       13338    4-community  \n96317 2010-01-01 21:48:37       13338    4-community  \n30501 2010-01-02 10:13:06        3969  1-allgemeines  \n30498 2010-01-02 10:13:06        3969  1-allgemeines  \n...                   ...         ...            ...  \n73863 2021-08-13 12:12:17       10061    4-community  \n73351 2021-08-15 09:57:56       10000    4-community  \n22658 2021-08-15 17:23:17        2911  1-allgemeines  \n22660 2021-08-15 17:23:17        2911  1-allgemeines  \n22659 2021-08-15 17:23:17        2911  1-allgemeines  \n\n[55888 rows x 6 columns]>"
     },
     "execution_count": 79,
     "metadata": {},
     "output_type": "execute_result"
    }
   ],
   "source": [
    "#visualize\n",
    "#monthly_mentions = % of all posts per category, group by month\n",
    "mentions = mentions.filter(['timestamp', category])"
   ],
   "metadata": {
    "collapsed": false,
    "pycharm": {
     "name": "#%%\n"
    }
   }
  },
  {
   "cell_type": "code",
   "execution_count": null,
   "outputs": [],
   "source": [],
   "metadata": {
    "collapsed": false,
    "pycharm": {
     "name": "#%%\n"
    }
   }
  }
 ],
 "metadata": {
  "kernelspec": {
   "display_name": "Python 3",
   "language": "python",
   "name": "python3"
  },
  "language_info": {
   "codemirror_mode": {
    "name": "ipython",
    "version": 2
   },
   "file_extension": ".py",
   "mimetype": "text/x-python",
   "name": "python",
   "nbconvert_exporter": "python",
   "pygments_lexer": "ipython2",
   "version": "2.7.6"
  }
 },
 "nbformat": 4,
 "nbformat_minor": 0
}